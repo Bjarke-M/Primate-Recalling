{
 "cells": [
  {
   "cell_type": "code",
   "execution_count": 1,
   "id": "673352f2-06bf-4d73-b447-2fae40c437c2",
   "metadata": {},
   "outputs": [
    {
     "name": "stderr",
     "output_type": "stream",
     "text": [
      "── \u001b[1mAttaching core tidyverse packages\u001b[22m ──────────────────────────────────────────────────────────────────────────────────────────── tidyverse 2.0.0 ──\n",
      "\u001b[32m✔\u001b[39m \u001b[34mdplyr    \u001b[39m 1.1.4     \u001b[32m✔\u001b[39m \u001b[34mreadr    \u001b[39m 2.1.5\n",
      "\u001b[32m✔\u001b[39m \u001b[34mforcats  \u001b[39m 1.0.0     \u001b[32m✔\u001b[39m \u001b[34mstringr  \u001b[39m 1.5.1\n",
      "\u001b[32m✔\u001b[39m \u001b[34mggplot2  \u001b[39m 3.5.2     \u001b[32m✔\u001b[39m \u001b[34mtibble   \u001b[39m 3.2.1\n",
      "\u001b[32m✔\u001b[39m \u001b[34mlubridate\u001b[39m 1.9.4     \u001b[32m✔\u001b[39m \u001b[34mtidyr    \u001b[39m 1.3.1\n",
      "\u001b[32m✔\u001b[39m \u001b[34mpurrr    \u001b[39m 1.0.4     \n",
      "── \u001b[1mConflicts\u001b[22m ────────────────────────────────────────────────────────────────────────────────────────────────────────────── tidyverse_conflicts() ──\n",
      "\u001b[31m✖\u001b[39m \u001b[34mdplyr\u001b[39m::\u001b[32mfilter()\u001b[39m masks \u001b[34mstats\u001b[39m::filter()\n",
      "\u001b[31m✖\u001b[39m \u001b[34mdplyr\u001b[39m::\u001b[32mlag()\u001b[39m    masks \u001b[34mstats\u001b[39m::lag()\n",
      "\u001b[36mℹ\u001b[39m Use the conflicted package (\u001b[3m\u001b[34m<http://conflicted.r-lib.org/>\u001b[39m\u001b[23m) to force all conflicts to become errors\n",
      "\n",
      "Attaching package: ‘data.table’\n",
      "\n",
      "\n",
      "The following objects are masked from ‘package:lubridate’:\n",
      "\n",
      "    hour, isoweek, mday, minute, month, quarter, second, wday, week,\n",
      "    yday, year\n",
      "\n",
      "\n",
      "The following objects are masked from ‘package:dplyr’:\n",
      "\n",
      "    between, first, last\n",
      "\n",
      "\n",
      "The following object is masked from ‘package:purrr’:\n",
      "\n",
      "    transpose\n",
      "\n",
      "\n",
      "\n",
      "Attaching package: ‘cowplot’\n",
      "\n",
      "\n",
      "The following object is masked from ‘package:lubridate’:\n",
      "\n",
      "    stamp\n",
      "\n",
      "\n",
      "\u001b[90maplot v0.2.8 For help: https://github.com/YuLab-SMU/aplot/issues\n",
      "\n",
      "If you use aplot in published research, please cite the paper:\n",
      "\n",
      "Shuangbin Xu, Qianwen Wang, Shaodi Wen, Junrui Li, Nan He, Ming Li,\n",
      "Thomas Hackl, Rui Wang, Dongqiang Zeng, Shixiang Wang, Shensuo Li,\n",
      "Chunhui Gao, Lang Zhou, Shaoguo Tao, Zijing Xie, Lin Deng, and\n",
      "Guangchuang Yu. aplot: Simplifying the creation of complex graphs to\n",
      "visualize associations across diverse data types. The Innovation. 2025,\n",
      "6(9):100958. doi: 10.1016/j.xinn.2025.100958\n",
      "\n",
      "Export the citation to BibTex by citation('aplot')\n",
      "\n",
      "This message can be suppressed by:\n",
      "suppressPackageStartupMessages(library(aplot))\u001b[39m\n",
      "\n"
     ]
    }
   ],
   "source": [
    "library(tidyverse)\n",
    "library(data.table)\n",
    "library(cowplot)\n",
    "library(aplot)"
   ]
  },
  {
   "cell_type": "code",
   "execution_count": null,
   "id": "b0e7d390-5914-4047-8f7b-0a2fc2cdded9",
   "metadata": {},
   "outputs": [],
   "source": [
    "path_to_master_file <- "
   ]
  },
  {
   "cell_type": "code",
   "execution_count": 3,
   "id": "ee0900f4-b067-4b1b-abd9-3a9357720b58",
   "metadata": {},
   "outputs": [],
   "source": [
    "per_sample_stats_df <-\n",
    "fread('../sample_stats_22.08.2025_finalMS.tsv')"
   ]
  },
  {
   "cell_type": "code",
   "execution_count": null,
   "id": "c0f71220-d878-45d8-8011-d0dc25026ca8",
   "metadata": {},
   "outputs": [],
   "source": [
    "hist_x <- per_sample_stats_df %>%\n",
    "\n",
    "ggplot()+\n",
    "# geom_point(aes(x = cov_A, y = cov_len_A), alpha = 0.1)+\n",
    "geom_histogram(aes(x = cov_chrA, fill = good_sample), binwidth = 0.02)+\n",
    "scale_fill_manual(values = c('darkgrey', 'darkorange'))+\n",
    "scale_x_log10()+\n",
    "\n",
    "ylab('N')+\n",
    "theme_bw() + \n",
    "theme(\n",
    "    text = element_text(size = 16),\n",
    "    legend.position=\"none\", \n",
    "    axis.text.x=element_blank(), #remove x axis labels\n",
    "        axis.ticks.x=element_blank(), #remove x axis ticks\n",
    "    axis.title.x=element_blank()\n",
    ")"
   ]
  },
  {
   "cell_type": "code",
   "execution_count": null,
   "id": "ea492357-7c23-40cc-bd43-2a0b05586fdb",
   "metadata": {},
   "outputs": [],
   "source": [
    "options(repr.plot.width = 8, repr.plot.height = 4, repr.plot.res = 200)\n",
    "hist_x"
   ]
  },
  {
   "cell_type": "code",
   "execution_count": null,
   "id": "e88668d7-8fbe-4eb4-9464-b2157c6a4388",
   "metadata": {},
   "outputs": [],
   "source": [
    "\n",
    "hist_y <- per_sample_stats_df %>%\n",
    "# y = after_stat(count / sum(count))\n",
    "ggplot()+\n",
    "# geom_point(aes(x = cov_A, y = cov_len_A), alpha = 0.1)+\n",
    "geom_histogram(aes(x = frac_cov_chrA, fill = good_sample), binwidth = 0.02)+\n",
    "scale_fill_manual(values = c('darkgrey', 'darkorange'))+\n",
    "scale_x_continuous()+\n",
    "\n",
    "# coord_cartesian(xlim = c(-0.05, 1.05))+\n",
    "ylab('N')+\n",
    "coord_flip()+\n",
    "theme_bw() + \n",
    "theme(\n",
    "    text = element_text(size = 16),\n",
    "    legend.position=\"none\", \n",
    "    axis.text.y=element_blank(), #remove x axis labels\n",
    "    axis.ticks.y=element_blank(), #remove x axis ticks\n",
    "    axis.title.y=element_blank()\n",
    ")"
   ]
  },
  {
   "cell_type": "code",
   "execution_count": null,
   "id": "47189a04-4b53-4e35-8cc2-0bb100ccfe4e",
   "metadata": {},
   "outputs": [],
   "source": [
    "options(repr.plot.width = 8, repr.plot.height = 4, repr.plot.res = 200)\n",
    "hist_y"
   ]
  },
  {
   "cell_type": "code",
   "execution_count": null,
   "id": "5bf3fbbd-7ce1-4bda-81ea-11552581b49a",
   "metadata": {},
   "outputs": [],
   "source": [
    "scatter_plot <- per_sample_stats_df %>%\n",
    "\n",
    "ggplot()+\n",
    "# geom_point(aes(x = cov_A, y = cov_len_A), alpha = 0.1)+\n",
    "geom_point(aes(x = cov_chrA, y = frac_cov_chrA, color = good_sample), alpha = 0.2, shape = 21, size = 3, stroke = 1)+\n",
    "# geom_vline(xintercept = 30, linetype = 'dotted')+\n",
    "scale_x_log10(limits = c(0.9, 260))+\n",
    "scale_y_continuous(limits = c(-0.05, 1.05))+\n",
    "# scale_color_manual(values = c('grey', '#1e81b0'))+\n",
    "scale_color_manual(values = c('darkgrey', 'darkorange'))+\n",
    "xlab('Depth')+\n",
    "ylab('Genome length covered')+\n",
    "theme_bw() + \n",
    "theme(\n",
    "    text = element_text(size = 16),\n",
    "    legend.position=\"none\"\n",
    ")\n"
   ]
  },
  {
   "cell_type": "code",
   "execution_count": null,
   "id": "636932fe-460f-4e5c-9403-feef963e88fa",
   "metadata": {},
   "outputs": [],
   "source": [
    "options(repr.plot.width = 8, repr.plot.height = 4, repr.plot.res = 200)\n",
    "scatter_plot"
   ]
  },
  {
   "cell_type": "code",
   "execution_count": null,
   "id": "fc698d71-3b02-4c3f-a47d-8cbf058ceda7",
   "metadata": {},
   "outputs": [],
   "source": [
    "options(repr.plot.width = 10, repr.plot.height = 6, repr.plot.res = 200)\n",
    "scatter_plot %>% insert_right(hist_y, width = 0.25) %>% insert_top(hist_x, height = 0.5)"
   ]
  },
  {
   "cell_type": "code",
   "execution_count": null,
   "id": "5624755e-baaa-4701-8990-241ff6d679d0",
   "metadata": {},
   "outputs": [],
   "source": [
    "pdf('coverage.pdf', width = 10, height = 6)\n",
    "scatter_plot %>% insert_right(hist_y, width = 0.25) %>% insert_top(hist_x, height = 0.5)\n",
    "dev.off()"
   ]
  }
 ],
 "metadata": {
  "kernelspec": {
   "display_name": "R",
   "language": "R",
   "name": "ir"
  },
  "language_info": {
   "codemirror_mode": "r",
   "file_extension": ".r",
   "mimetype": "text/x-r-source",
   "name": "R",
   "pygments_lexer": "r",
   "version": "4.3.1"
  }
 },
 "nbformat": 4,
 "nbformat_minor": 5
}
